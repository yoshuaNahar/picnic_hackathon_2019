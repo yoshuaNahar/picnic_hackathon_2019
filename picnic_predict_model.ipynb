{
 "cells": [
  {
   "cell_type": "code",
   "execution_count": 1,
   "metadata": {
    "colab": {
     "base_uri": "https://localhost:8080/",
     "height": 34
    },
    "colab_type": "code",
    "id": "yZcCyInCx0YW",
    "outputId": "b663cb4e-a2ac-418b-e845-f43662945720",
    "pycharm": {
     "is_executing": true
    }
   },
   "outputs": [
    {
     "name": "stderr",
     "output_type": "stream",
     "text": [
      "Using TensorFlow backend.\n"
     ]
    }
   ],
   "source": [
    "import numpy as np\n",
    "import pandas as pd\n",
    "\n",
    "from keras.models import model_from_json\n",
    "from keras.preprocessing.image import ImageDataGenerator"
   ]
  },
  {
   "cell_type": "code",
   "execution_count": 2,
   "metadata": {},
   "outputs": [],
   "source": [
    "def infer(model, test_dir, train_dir, batch_size):\n",
    "    test_datagenerator = ImageDataGenerator(rescale=1. / 255)\n",
    "\n",
    "    test_generator = test_datagenerator.flow_from_directory(\n",
    "        test_dir,\n",
    "        class_mode=None,\n",
    "        target_size=(299, 299),\n",
    "        batch_size=batch_size,\n",
    "        shuffle=False,\n",
    "    )\n",
    "    \n",
    "    filenames = test_generator.filenames\n",
    "    samples = len(filenames)\n",
    "\n",
    "    labels = ImageDataGenerator().flow_from_directory(train_dir).class_indices\n",
    "    labels = dict((v, k) for k, v in labels.items())\n",
    "    #print(labels)\n",
    "    \n",
    "    predictions = model.predict_generator(test_generator, steps=samples//batch_size)\n",
    "    predicted_class_indices = np.argmax(predictions, axis=1)\n",
    "\n",
    "    predictions = [labels[k] for k in predicted_class_indices]\n",
    "\n",
    "    return (predictions, [filename.replace('no_labels/', '') for filename in filenames])"
   ]
  },
  {
   "cell_type": "code",
   "execution_count": 3,
   "metadata": {},
   "outputs": [],
   "source": [
    "# == VARIABLES ==\n",
    "train_dir = './data/kfold/0/train'\n",
    "test_dir = './data/test'\n",
    "batch_size = 32"
   ]
  },
  {
   "cell_type": "code",
   "execution_count": 4,
   "metadata": {},
   "outputs": [],
   "source": [
    "# == PREDCIT ==\n",
    "# Get model's architecture from json file\n",
    "with open('./models/picnic_model_v3.json', 'r') as file:\n",
    "    json_string = file.read()\n",
    "\n",
    "# Load model's architecture\n",
    "loaded_model = model_from_json(json_string)\n",
    "# Load model's weight\n",
    "loaded_model.load_weights('./models/picnic_model_v3.h5')"
   ]
  },
  {
   "cell_type": "code",
   "execution_count": 5,
   "metadata": {},
   "outputs": [],
   "source": [
    "(predictions, filenames) = infer(loaded_model, test_dir, train_dir, batch_size)\n",
    "results = pd.DataFrame({\"file\": filenames, \"label\": predictions})\n",
    "results.to_csv(\"14-04-19_1.tsv\", sep='\\t', index=False)"
   ]
  }
 ],
 "metadata": {
  "accelerator": "GPU",
  "colab": {
   "collapsed_sections": [],
   "name": "picnic_challenge.ipynb",
   "provenance": [],
   "version": "0.3.2"
  },
  "kernelspec": {
   "display_name": "Python 3",
   "language": "python",
   "name": "python3"
  },
  "language_info": {
   "codemirror_mode": {
    "name": "ipython",
    "version": 3
   },
   "file_extension": ".py",
   "mimetype": "text/x-python",
   "name": "python",
   "nbconvert_exporter": "python",
   "pygments_lexer": "ipython3",
   "version": "3.6.8"
  }
 },
 "nbformat": 4,
 "nbformat_minor": 2
}
